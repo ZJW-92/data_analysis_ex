{
 "cells": [
  {
   "cell_type": "markdown",
   "id": "d72ed577",
   "metadata": {},
   "source": [
    "## Popular names in USA\n",
    "* Data source： https://www.ssa.gov/oact/babynames/limits.html\n",
    "* Include all babies name borned from 1990 to 2021. \n"
   ]
  },
  {
   "cell_type": "code",
   "execution_count": 1,
   "id": "8dc23a6c",
   "metadata": {},
   "outputs": [],
   "source": [
    "import pandas as pd\n",
    "import numpy as np\n",
    "import matplotlib.pyplot as plt\n",
    "import re as re\n",
    "import scipy\n",
    "\n",
    "%matplotlib inline"
   ]
  },
  {
   "cell_type": "code",
   "execution_count": 2,
   "id": "3b8c3a40",
   "metadata": {},
   "outputs": [],
   "source": [
    "# load data\n",
    "\n",
    "years = range(1990, 2022) \n",
    "pieces = [] # create a list \n",
    "columns = ['name', 'gender', 'frequency']\n",
    "\n",
    "for year in years: \n",
    "    path = 'names 1990-2021/yob%d.txt' % year   #%d operator is put where the integer is to be specified\n",
    "    frame = pd.read_csv(path, names=columns) #  load data\n",
    "    frame['year'] = year \n",
    "    pieces.append(frame)\n",
    "    "
   ]
  },
  {
   "cell_type": "code",
   "execution_count": 3,
   "id": "05867f97",
   "metadata": {},
   "outputs": [],
   "source": [
    "baby_names = pd.concat(pieces, ignore_index=True) # transfer to pd data "
   ]
  },
  {
   "cell_type": "code",
   "execution_count": 4,
   "id": "afc192d4",
   "metadata": {},
   "outputs": [
    {
     "data": {
      "text/html": [
       "<div>\n",
       "<style scoped>\n",
       "    .dataframe tbody tr th:only-of-type {\n",
       "        vertical-align: middle;\n",
       "    }\n",
       "\n",
       "    .dataframe tbody tr th {\n",
       "        vertical-align: top;\n",
       "    }\n",
       "\n",
       "    .dataframe thead th {\n",
       "        text-align: right;\n",
       "    }\n",
       "</style>\n",
       "<table border=\"1\" class=\"dataframe\">\n",
       "  <thead>\n",
       "    <tr style=\"text-align: right;\">\n",
       "      <th></th>\n",
       "      <th>name</th>\n",
       "      <th>gender</th>\n",
       "      <th>frequency</th>\n",
       "      <th>year</th>\n",
       "    </tr>\n",
       "  </thead>\n",
       "  <tbody>\n",
       "    <tr>\n",
       "      <th>0</th>\n",
       "      <td>Jessica</td>\n",
       "      <td>F</td>\n",
       "      <td>46481</td>\n",
       "      <td>1990</td>\n",
       "    </tr>\n",
       "    <tr>\n",
       "      <th>1</th>\n",
       "      <td>Ashley</td>\n",
       "      <td>F</td>\n",
       "      <td>45560</td>\n",
       "      <td>1990</td>\n",
       "    </tr>\n",
       "    <tr>\n",
       "      <th>2</th>\n",
       "      <td>Brittany</td>\n",
       "      <td>F</td>\n",
       "      <td>36536</td>\n",
       "      <td>1990</td>\n",
       "    </tr>\n",
       "    <tr>\n",
       "      <th>3</th>\n",
       "      <td>Amanda</td>\n",
       "      <td>F</td>\n",
       "      <td>34409</td>\n",
       "      <td>1990</td>\n",
       "    </tr>\n",
       "    <tr>\n",
       "      <th>4</th>\n",
       "      <td>Samantha</td>\n",
       "      <td>F</td>\n",
       "      <td>25868</td>\n",
       "      <td>1990</td>\n",
       "    </tr>\n",
       "    <tr>\n",
       "      <th>...</th>\n",
       "      <td>...</td>\n",
       "      <td>...</td>\n",
       "      <td>...</td>\n",
       "      <td>...</td>\n",
       "    </tr>\n",
       "    <tr>\n",
       "      <th>982931</th>\n",
       "      <td>Zykell</td>\n",
       "      <td>M</td>\n",
       "      <td>5</td>\n",
       "      <td>2021</td>\n",
       "    </tr>\n",
       "    <tr>\n",
       "      <th>982932</th>\n",
       "      <td>Zylus</td>\n",
       "      <td>M</td>\n",
       "      <td>5</td>\n",
       "      <td>2021</td>\n",
       "    </tr>\n",
       "    <tr>\n",
       "      <th>982933</th>\n",
       "      <td>Zymari</td>\n",
       "      <td>M</td>\n",
       "      <td>5</td>\n",
       "      <td>2021</td>\n",
       "    </tr>\n",
       "    <tr>\n",
       "      <th>982934</th>\n",
       "      <td>Zyn</td>\n",
       "      <td>M</td>\n",
       "      <td>5</td>\n",
       "      <td>2021</td>\n",
       "    </tr>\n",
       "    <tr>\n",
       "      <th>982935</th>\n",
       "      <td>Zyran</td>\n",
       "      <td>M</td>\n",
       "      <td>5</td>\n",
       "      <td>2021</td>\n",
       "    </tr>\n",
       "  </tbody>\n",
       "</table>\n",
       "<p>982936 rows × 4 columns</p>\n",
       "</div>"
      ],
      "text/plain": [
       "            name gender  frequency  year\n",
       "0        Jessica      F      46481  1990\n",
       "1         Ashley      F      45560  1990\n",
       "2       Brittany      F      36536  1990\n",
       "3         Amanda      F      34409  1990\n",
       "4       Samantha      F      25868  1990\n",
       "...          ...    ...        ...   ...\n",
       "982931    Zykell      M          5  2021\n",
       "982932     Zylus      M          5  2021\n",
       "982933    Zymari      M          5  2021\n",
       "982934       Zyn      M          5  2021\n",
       "982935     Zyran      M          5  2021\n",
       "\n",
       "[982936 rows x 4 columns]"
      ]
     },
     "execution_count": 4,
     "metadata": {},
     "output_type": "execute_result"
    }
   ],
   "source": [
    "baby_names"
   ]
  },
  {
   "cell_type": "code",
   "execution_count": 5,
   "id": "43fe14c7",
   "metadata": {},
   "outputs": [
    {
     "data": {
      "text/html": [
       "<div>\n",
       "<style scoped>\n",
       "    .dataframe tbody tr th:only-of-type {\n",
       "        vertical-align: middle;\n",
       "    }\n",
       "\n",
       "    .dataframe tbody tr th {\n",
       "        vertical-align: top;\n",
       "    }\n",
       "\n",
       "    .dataframe thead th {\n",
       "        text-align: right;\n",
       "    }\n",
       "</style>\n",
       "<table border=\"1\" class=\"dataframe\">\n",
       "  <thead>\n",
       "    <tr style=\"text-align: right;\">\n",
       "      <th></th>\n",
       "      <th>name</th>\n",
       "      <th>gender</th>\n",
       "      <th>frequency</th>\n",
       "      <th>year</th>\n",
       "    </tr>\n",
       "  </thead>\n",
       "  <tbody>\n",
       "    <tr>\n",
       "      <th>0</th>\n",
       "      <td>Jessica</td>\n",
       "      <td>F</td>\n",
       "      <td>46481</td>\n",
       "      <td>1990</td>\n",
       "    </tr>\n",
       "    <tr>\n",
       "      <th>1</th>\n",
       "      <td>Ashley</td>\n",
       "      <td>F</td>\n",
       "      <td>45560</td>\n",
       "      <td>1990</td>\n",
       "    </tr>\n",
       "    <tr>\n",
       "      <th>2</th>\n",
       "      <td>Brittany</td>\n",
       "      <td>F</td>\n",
       "      <td>36536</td>\n",
       "      <td>1990</td>\n",
       "    </tr>\n",
       "    <tr>\n",
       "      <th>3</th>\n",
       "      <td>Amanda</td>\n",
       "      <td>F</td>\n",
       "      <td>34409</td>\n",
       "      <td>1990</td>\n",
       "    </tr>\n",
       "    <tr>\n",
       "      <th>4</th>\n",
       "      <td>Samantha</td>\n",
       "      <td>F</td>\n",
       "      <td>25868</td>\n",
       "      <td>1990</td>\n",
       "    </tr>\n",
       "    <tr>\n",
       "      <th>5</th>\n",
       "      <td>Sarah</td>\n",
       "      <td>F</td>\n",
       "      <td>25821</td>\n",
       "      <td>1990</td>\n",
       "    </tr>\n",
       "    <tr>\n",
       "      <th>6</th>\n",
       "      <td>Stephanie</td>\n",
       "      <td>F</td>\n",
       "      <td>24863</td>\n",
       "      <td>1990</td>\n",
       "    </tr>\n",
       "    <tr>\n",
       "      <th>7</th>\n",
       "      <td>Jennifer</td>\n",
       "      <td>F</td>\n",
       "      <td>22234</td>\n",
       "      <td>1990</td>\n",
       "    </tr>\n",
       "    <tr>\n",
       "      <th>8</th>\n",
       "      <td>Elizabeth</td>\n",
       "      <td>F</td>\n",
       "      <td>20749</td>\n",
       "      <td>1990</td>\n",
       "    </tr>\n",
       "    <tr>\n",
       "      <th>9</th>\n",
       "      <td>Lauren</td>\n",
       "      <td>F</td>\n",
       "      <td>20508</td>\n",
       "      <td>1990</td>\n",
       "    </tr>\n",
       "  </tbody>\n",
       "</table>\n",
       "</div>"
      ],
      "text/plain": [
       "        name gender  frequency  year\n",
       "0    Jessica      F      46481  1990\n",
       "1     Ashley      F      45560  1990\n",
       "2   Brittany      F      36536  1990\n",
       "3     Amanda      F      34409  1990\n",
       "4   Samantha      F      25868  1990\n",
       "5      Sarah      F      25821  1990\n",
       "6  Stephanie      F      24863  1990\n",
       "7   Jennifer      F      22234  1990\n",
       "8  Elizabeth      F      20749  1990\n",
       "9     Lauren      F      20508  1990"
      ]
     },
     "execution_count": 5,
     "metadata": {},
     "output_type": "execute_result"
    }
   ],
   "source": [
    "baby_names.head(10) # see first 10 lines data "
   ]
  },
  {
   "cell_type": "markdown",
   "id": "c0235b5b",
   "metadata": {},
   "source": [
    "## Specify which names are the most popular from 1990-2021"
   ]
  },
  {
   "cell_type": "code",
   "execution_count": 6,
   "id": "93781e63",
   "metadata": {},
   "outputs": [
    {
     "data": {
      "text/html": [
       "<div>\n",
       "<style scoped>\n",
       "    .dataframe tbody tr th:only-of-type {\n",
       "        vertical-align: middle;\n",
       "    }\n",
       "\n",
       "    .dataframe tbody tr th {\n",
       "        vertical-align: top;\n",
       "    }\n",
       "\n",
       "    .dataframe thead th {\n",
       "        text-align: right;\n",
       "    }\n",
       "</style>\n",
       "<table border=\"1\" class=\"dataframe\">\n",
       "  <thead>\n",
       "    <tr style=\"text-align: right;\">\n",
       "      <th></th>\n",
       "      <th>frequency</th>\n",
       "    </tr>\n",
       "    <tr>\n",
       "      <th>name</th>\n",
       "      <th></th>\n",
       "    </tr>\n",
       "  </thead>\n",
       "  <tbody>\n",
       "    <tr>\n",
       "      <th>Aaban</th>\n",
       "      <td>120</td>\n",
       "    </tr>\n",
       "    <tr>\n",
       "      <th>Aabha</th>\n",
       "      <td>51</td>\n",
       "    </tr>\n",
       "    <tr>\n",
       "      <th>Aabid</th>\n",
       "      <td>16</td>\n",
       "    </tr>\n",
       "    <tr>\n",
       "      <th>Aabidah</th>\n",
       "      <td>5</td>\n",
       "    </tr>\n",
       "    <tr>\n",
       "      <th>Aabir</th>\n",
       "      <td>10</td>\n",
       "    </tr>\n",
       "    <tr>\n",
       "      <th>...</th>\n",
       "      <td>...</td>\n",
       "    </tr>\n",
       "    <tr>\n",
       "      <th>Zyvion</th>\n",
       "      <td>5</td>\n",
       "    </tr>\n",
       "    <tr>\n",
       "      <th>Zyvon</th>\n",
       "      <td>7</td>\n",
       "    </tr>\n",
       "    <tr>\n",
       "      <th>Zyyanna</th>\n",
       "      <td>6</td>\n",
       "    </tr>\n",
       "    <tr>\n",
       "      <th>Zyyon</th>\n",
       "      <td>6</td>\n",
       "    </tr>\n",
       "    <tr>\n",
       "      <th>Zzyzx</th>\n",
       "      <td>10</td>\n",
       "    </tr>\n",
       "  </tbody>\n",
       "</table>\n",
       "<p>81388 rows × 1 columns</p>\n",
       "</div>"
      ],
      "text/plain": [
       "         frequency\n",
       "name              \n",
       "Aaban          120\n",
       "Aabha           51\n",
       "Aabid           16\n",
       "Aabidah          5\n",
       "Aabir           10\n",
       "...            ...\n",
       "Zyvion           5\n",
       "Zyvon            7\n",
       "Zyyanna          6\n",
       "Zyyon            6\n",
       "Zzyzx           10\n",
       "\n",
       "[81388 rows x 1 columns]"
      ]
     },
     "execution_count": 6,
     "metadata": {},
     "output_type": "execute_result"
    }
   ],
   "source": [
    "baby_names.groupby('name').agg({'frequency':sum})"
   ]
  },
  {
   "cell_type": "code",
   "execution_count": 7,
   "id": "24656508",
   "metadata": {},
   "outputs": [
    {
     "data": {
      "text/html": [
       "<div>\n",
       "<style scoped>\n",
       "    .dataframe tbody tr th:only-of-type {\n",
       "        vertical-align: middle;\n",
       "    }\n",
       "\n",
       "    .dataframe tbody tr th {\n",
       "        vertical-align: top;\n",
       "    }\n",
       "\n",
       "    .dataframe thead th {\n",
       "        text-align: right;\n",
       "    }\n",
       "</style>\n",
       "<table border=\"1\" class=\"dataframe\">\n",
       "  <thead>\n",
       "    <tr style=\"text-align: right;\">\n",
       "      <th></th>\n",
       "      <th>frequency</th>\n",
       "    </tr>\n",
       "    <tr>\n",
       "      <th>name</th>\n",
       "      <th></th>\n",
       "    </tr>\n",
       "  </thead>\n",
       "  <tbody>\n",
       "    <tr>\n",
       "      <th>Michael</th>\n",
       "      <td>879880</td>\n",
       "    </tr>\n",
       "    <tr>\n",
       "      <th>Jacob</th>\n",
       "      <td>754333</td>\n",
       "    </tr>\n",
       "    <tr>\n",
       "      <th>Matthew</th>\n",
       "      <td>714963</td>\n",
       "    </tr>\n",
       "    <tr>\n",
       "      <th>Joshua</th>\n",
       "      <td>680211</td>\n",
       "    </tr>\n",
       "    <tr>\n",
       "      <th>Christopher</th>\n",
       "      <td>679146</td>\n",
       "    </tr>\n",
       "    <tr>\n",
       "      <th>...</th>\n",
       "      <td>...</td>\n",
       "    </tr>\n",
       "    <tr>\n",
       "      <th>Briayla</th>\n",
       "      <td>5</td>\n",
       "    </tr>\n",
       "    <tr>\n",
       "      <th>Briazia</th>\n",
       "      <td>5</td>\n",
       "    </tr>\n",
       "    <tr>\n",
       "      <th>Nhala</th>\n",
       "      <td>5</td>\n",
       "    </tr>\n",
       "    <tr>\n",
       "      <th>Ngozichukwu</th>\n",
       "      <td>5</td>\n",
       "    </tr>\n",
       "    <tr>\n",
       "      <th>Cansu</th>\n",
       "      <td>5</td>\n",
       "    </tr>\n",
       "  </tbody>\n",
       "</table>\n",
       "<p>81388 rows × 1 columns</p>\n",
       "</div>"
      ],
      "text/plain": [
       "             frequency\n",
       "name                  \n",
       "Michael         879880\n",
       "Jacob           754333\n",
       "Matthew         714963\n",
       "Joshua          680211\n",
       "Christopher     679146\n",
       "...                ...\n",
       "Briayla              5\n",
       "Briazia              5\n",
       "Nhala                5\n",
       "Ngozichukwu          5\n",
       "Cansu                5\n",
       "\n",
       "[81388 rows x 1 columns]"
      ]
     },
     "execution_count": 7,
     "metadata": {},
     "output_type": "execute_result"
    }
   ],
   "source": [
    "#sort all values in descending order after aggregation\n",
    "baby_names.groupby('name').agg({'frequency':sum}).sort_values(by=['frequency'],ascending=[0])"
   ]
  },
  {
   "cell_type": "markdown",
   "id": "78b85985",
   "metadata": {},
   "source": [
    "## The comparison between male and female in the past 10 years"
   ]
  },
  {
   "cell_type": "code",
   "execution_count": 8,
   "id": "4460c2c7",
   "metadata": {},
   "outputs": [],
   "source": [
    "freq_by_gender_year = baby_names.pivot_table(index ='year', columns='gender',\n",
    "                                             values = 'frequency', aggfunc=sum)"
   ]
  },
  {
   "cell_type": "code",
   "execution_count": 9,
   "id": "cd67fc4a",
   "metadata": {},
   "outputs": [
    {
     "data": {
      "text/html": [
       "<div>\n",
       "<style scoped>\n",
       "    .dataframe tbody tr th:only-of-type {\n",
       "        vertical-align: middle;\n",
       "    }\n",
       "\n",
       "    .dataframe tbody tr th {\n",
       "        vertical-align: top;\n",
       "    }\n",
       "\n",
       "    .dataframe thead th {\n",
       "        text-align: right;\n",
       "    }\n",
       "</style>\n",
       "<table border=\"1\" class=\"dataframe\">\n",
       "  <thead>\n",
       "    <tr style=\"text-align: right;\">\n",
       "      <th>gender</th>\n",
       "      <th>F</th>\n",
       "      <th>M</th>\n",
       "    </tr>\n",
       "    <tr>\n",
       "      <th>year</th>\n",
       "      <th></th>\n",
       "      <th></th>\n",
       "    </tr>\n",
       "  </thead>\n",
       "  <tbody>\n",
       "    <tr>\n",
       "      <th>2012</th>\n",
       "      <td>1759366</td>\n",
       "      <td>1895285</td>\n",
       "    </tr>\n",
       "    <tr>\n",
       "      <th>2013</th>\n",
       "      <td>1752777</td>\n",
       "      <td>1889640</td>\n",
       "    </tr>\n",
       "    <tr>\n",
       "      <th>2014</th>\n",
       "      <td>1784227</td>\n",
       "      <td>1918546</td>\n",
       "    </tr>\n",
       "    <tr>\n",
       "      <th>2015</th>\n",
       "      <td>1782611</td>\n",
       "      <td>1914078</td>\n",
       "    </tr>\n",
       "    <tr>\n",
       "      <th>2016</th>\n",
       "      <td>1769164</td>\n",
       "      <td>1894723</td>\n",
       "    </tr>\n",
       "    <tr>\n",
       "      <th>2017</th>\n",
       "      <td>1723043</td>\n",
       "      <td>1847191</td>\n",
       "    </tr>\n",
       "    <tr>\n",
       "      <th>2018</th>\n",
       "      <td>1696917</td>\n",
       "      <td>1811738</td>\n",
       "    </tr>\n",
       "    <tr>\n",
       "      <th>2019</th>\n",
       "      <td>1673030</td>\n",
       "      <td>1788414</td>\n",
       "    </tr>\n",
       "    <tr>\n",
       "      <th>2020</th>\n",
       "      <td>1627098</td>\n",
       "      <td>1734277</td>\n",
       "    </tr>\n",
       "    <tr>\n",
       "      <th>2021</th>\n",
       "      <td>1609171</td>\n",
       "      <td>1718248</td>\n",
       "    </tr>\n",
       "  </tbody>\n",
       "</table>\n",
       "</div>"
      ],
      "text/plain": [
       "gender        F        M\n",
       "year                    \n",
       "2012    1759366  1895285\n",
       "2013    1752777  1889640\n",
       "2014    1784227  1918546\n",
       "2015    1782611  1914078\n",
       "2016    1769164  1894723\n",
       "2017    1723043  1847191\n",
       "2018    1696917  1811738\n",
       "2019    1673030  1788414\n",
       "2020    1627098  1734277\n",
       "2021    1609171  1718248"
      ]
     },
     "execution_count": 9,
     "metadata": {},
     "output_type": "execute_result"
    }
   ],
   "source": [
    "freq_by_gender_year.tail(10)"
   ]
  },
  {
   "cell_type": "markdown",
   "id": "1a53ee65",
   "metadata": {},
   "source": [
    "## The visulaization of the comparison "
   ]
  },
  {
   "cell_type": "code",
   "execution_count": 10,
   "id": "bac0b3f8",
   "metadata": {},
   "outputs": [
    {
     "data": {
      "text/plain": [
       "<AxesSubplot:title={'center':'Frequency by year and gender'}, xlabel='year'>"
      ]
     },
     "execution_count": 10,
     "metadata": {},
     "output_type": "execute_result"
    },
    {
     "data": {
      "image/png": "[encoded data removed]",
      "text/plain": [
       "<Figure size 432x288 with 1 Axes>"
      ]
     },
     "metadata": {
      "needs_background": "light"
     },
     "output_type": "display_data"
    }
   ],
   "source": [
    "freq_by_gender_year.plot(title='Frequency by year and gender')"
   ]
  },
  {
   "cell_type": "markdown",
   "id": "b818e8f5",
   "metadata": {},
   "source": [
    "## The trend analysis of names"
   ]
  },
  {
   "cell_type": "code",
   "execution_count": 11,
   "id": "fec5aba8",
   "metadata": {},
   "outputs": [],
   "source": [
    "baby_names['ranked'] = baby_names.groupby(['year', 'gender'])['frequency'].rank(ascending=False)"
   ]
  },
  {
   "cell_type": "code",
   "execution_count": 12,
   "id": "30ac285b",
   "metadata": {},
   "outputs": [
    {
     "data": {
      "text/html": [
       "<div>\n",
       "<style scoped>\n",
       "    .dataframe tbody tr th:only-of-type {\n",
       "        vertical-align: middle;\n",
       "    }\n",
       "\n",
       "    .dataframe tbody tr th {\n",
       "        vertical-align: top;\n",
       "    }\n",
       "\n",
       "    .dataframe thead th {\n",
       "        text-align: right;\n",
       "    }\n",
       "</style>\n",
       "<table border=\"1\" class=\"dataframe\">\n",
       "  <thead>\n",
       "    <tr style=\"text-align: right;\">\n",
       "      <th></th>\n",
       "      <th>name</th>\n",
       "      <th>gender</th>\n",
       "      <th>frequency</th>\n",
       "      <th>year</th>\n",
       "      <th>ranked</th>\n",
       "    </tr>\n",
       "  </thead>\n",
       "  <tbody>\n",
       "    <tr>\n",
       "      <th>0</th>\n",
       "      <td>Jessica</td>\n",
       "      <td>F</td>\n",
       "      <td>46481</td>\n",
       "      <td>1990</td>\n",
       "      <td>1.0</td>\n",
       "    </tr>\n",
       "    <tr>\n",
       "      <th>1</th>\n",
       "      <td>Ashley</td>\n",
       "      <td>F</td>\n",
       "      <td>45560</td>\n",
       "      <td>1990</td>\n",
       "      <td>2.0</td>\n",
       "    </tr>\n",
       "    <tr>\n",
       "      <th>2</th>\n",
       "      <td>Brittany</td>\n",
       "      <td>F</td>\n",
       "      <td>36536</td>\n",
       "      <td>1990</td>\n",
       "      <td>3.0</td>\n",
       "    </tr>\n",
       "    <tr>\n",
       "      <th>3</th>\n",
       "      <td>Amanda</td>\n",
       "      <td>F</td>\n",
       "      <td>34409</td>\n",
       "      <td>1990</td>\n",
       "      <td>4.0</td>\n",
       "    </tr>\n",
       "    <tr>\n",
       "      <th>4</th>\n",
       "      <td>Samantha</td>\n",
       "      <td>F</td>\n",
       "      <td>25868</td>\n",
       "      <td>1990</td>\n",
       "      <td>5.0</td>\n",
       "    </tr>\n",
       "    <tr>\n",
       "      <th>5</th>\n",
       "      <td>Sarah</td>\n",
       "      <td>F</td>\n",
       "      <td>25821</td>\n",
       "      <td>1990</td>\n",
       "      <td>6.0</td>\n",
       "    </tr>\n",
       "    <tr>\n",
       "      <th>6</th>\n",
       "      <td>Stephanie</td>\n",
       "      <td>F</td>\n",
       "      <td>24863</td>\n",
       "      <td>1990</td>\n",
       "      <td>7.0</td>\n",
       "    </tr>\n",
       "    <tr>\n",
       "      <th>7</th>\n",
       "      <td>Jennifer</td>\n",
       "      <td>F</td>\n",
       "      <td>22234</td>\n",
       "      <td>1990</td>\n",
       "      <td>8.0</td>\n",
       "    </tr>\n",
       "    <tr>\n",
       "      <th>8</th>\n",
       "      <td>Elizabeth</td>\n",
       "      <td>F</td>\n",
       "      <td>20749</td>\n",
       "      <td>1990</td>\n",
       "      <td>9.0</td>\n",
       "    </tr>\n",
       "    <tr>\n",
       "      <th>9</th>\n",
       "      <td>Lauren</td>\n",
       "      <td>F</td>\n",
       "      <td>20508</td>\n",
       "      <td>1990</td>\n",
       "      <td>10.0</td>\n",
       "    </tr>\n",
       "  </tbody>\n",
       "</table>\n",
       "</div>"
      ],
      "text/plain": [
       "        name gender  frequency  year  ranked\n",
       "0    Jessica      F      46481  1990     1.0\n",
       "1     Ashley      F      45560  1990     2.0\n",
       "2   Brittany      F      36536  1990     3.0\n",
       "3     Amanda      F      34409  1990     4.0\n",
       "4   Samantha      F      25868  1990     5.0\n",
       "5      Sarah      F      25821  1990     6.0\n",
       "6  Stephanie      F      24863  1990     7.0\n",
       "7   Jennifer      F      22234  1990     8.0\n",
       "8  Elizabeth      F      20749  1990     9.0\n",
       "9     Lauren      F      20508  1990    10.0"
      ]
     },
     "execution_count": 12,
     "metadata": {},
     "output_type": "execute_result"
    }
   ],
   "source": [
    "baby_names.head(10)"
   ]
  },
  {
   "cell_type": "code",
   "execution_count": 13,
   "id": "e1debf81",
   "metadata": {},
   "outputs": [],
   "source": [
    "def add_pct(group):# define a function to show percentage of each name \n",
    "    group['pct'] = group.frequency / group.frequency.sum()*100\n",
    "    return group\n",
    "\n",
    "# apply function \n",
    "baby_names = baby_names.groupby(['year', 'gender']).apply(add_pct) "
   ]
  },
  {
   "cell_type": "code",
   "execution_count": 14,
   "id": "5167d2d3",
   "metadata": {},
   "outputs": [
    {
     "data": {
      "text/html": [
       "<div>\n",
       "<style scoped>\n",
       "    .dataframe tbody tr th:only-of-type {\n",
       "        vertical-align: middle;\n",
       "    }\n",
       "\n",
       "    .dataframe tbody tr th {\n",
       "        vertical-align: top;\n",
       "    }\n",
       "\n",
       "    .dataframe thead th {\n",
       "        text-align: right;\n",
       "    }\n",
       "</style>\n",
       "<table border=\"1\" class=\"dataframe\">\n",
       "  <thead>\n",
       "    <tr style=\"text-align: right;\">\n",
       "      <th></th>\n",
       "      <th>name</th>\n",
       "      <th>gender</th>\n",
       "      <th>frequency</th>\n",
       "      <th>year</th>\n",
       "      <th>ranked</th>\n",
       "      <th>pct</th>\n",
       "    </tr>\n",
       "  </thead>\n",
       "  <tbody>\n",
       "    <tr>\n",
       "      <th>0</th>\n",
       "      <td>Jessica</td>\n",
       "      <td>F</td>\n",
       "      <td>46481</td>\n",
       "      <td>1990</td>\n",
       "      <td>1.0</td>\n",
       "      <td>2.448496</td>\n",
       "    </tr>\n",
       "    <tr>\n",
       "      <th>1</th>\n",
       "      <td>Ashley</td>\n",
       "      <td>F</td>\n",
       "      <td>45560</td>\n",
       "      <td>1990</td>\n",
       "      <td>2.0</td>\n",
       "      <td>2.399980</td>\n",
       "    </tr>\n",
       "    <tr>\n",
       "      <th>2</th>\n",
       "      <td>Brittany</td>\n",
       "      <td>F</td>\n",
       "      <td>36536</td>\n",
       "      <td>1990</td>\n",
       "      <td>3.0</td>\n",
       "      <td>1.924620</td>\n",
       "    </tr>\n",
       "    <tr>\n",
       "      <th>3</th>\n",
       "      <td>Amanda</td>\n",
       "      <td>F</td>\n",
       "      <td>34409</td>\n",
       "      <td>1990</td>\n",
       "      <td>4.0</td>\n",
       "      <td>1.812575</td>\n",
       "    </tr>\n",
       "    <tr>\n",
       "      <th>4</th>\n",
       "      <td>Samantha</td>\n",
       "      <td>F</td>\n",
       "      <td>25868</td>\n",
       "      <td>1990</td>\n",
       "      <td>5.0</td>\n",
       "      <td>1.362658</td>\n",
       "    </tr>\n",
       "    <tr>\n",
       "      <th>5</th>\n",
       "      <td>Sarah</td>\n",
       "      <td>F</td>\n",
       "      <td>25821</td>\n",
       "      <td>1990</td>\n",
       "      <td>6.0</td>\n",
       "      <td>1.360182</td>\n",
       "    </tr>\n",
       "    <tr>\n",
       "      <th>6</th>\n",
       "      <td>Stephanie</td>\n",
       "      <td>F</td>\n",
       "      <td>24863</td>\n",
       "      <td>1990</td>\n",
       "      <td>7.0</td>\n",
       "      <td>1.309717</td>\n",
       "    </tr>\n",
       "    <tr>\n",
       "      <th>7</th>\n",
       "      <td>Jennifer</td>\n",
       "      <td>F</td>\n",
       "      <td>22234</td>\n",
       "      <td>1990</td>\n",
       "      <td>8.0</td>\n",
       "      <td>1.171228</td>\n",
       "    </tr>\n",
       "    <tr>\n",
       "      <th>8</th>\n",
       "      <td>Elizabeth</td>\n",
       "      <td>F</td>\n",
       "      <td>20749</td>\n",
       "      <td>1990</td>\n",
       "      <td>9.0</td>\n",
       "      <td>1.093002</td>\n",
       "    </tr>\n",
       "    <tr>\n",
       "      <th>9</th>\n",
       "      <td>Lauren</td>\n",
       "      <td>F</td>\n",
       "      <td>20508</td>\n",
       "      <td>1990</td>\n",
       "      <td>10.0</td>\n",
       "      <td>1.080307</td>\n",
       "    </tr>\n",
       "  </tbody>\n",
       "</table>\n",
       "</div>"
      ],
      "text/plain": [
       "        name gender  frequency  year  ranked       pct\n",
       "0    Jessica      F      46481  1990     1.0  2.448496\n",
       "1     Ashley      F      45560  1990     2.0  2.399980\n",
       "2   Brittany      F      36536  1990     3.0  1.924620\n",
       "3     Amanda      F      34409  1990     4.0  1.812575\n",
       "4   Samantha      F      25868  1990     5.0  1.362658\n",
       "5      Sarah      F      25821  1990     6.0  1.360182\n",
       "6  Stephanie      F      24863  1990     7.0  1.309717\n",
       "7   Jennifer      F      22234  1990     8.0  1.171228\n",
       "8  Elizabeth      F      20749  1990     9.0  1.093002\n",
       "9     Lauren      F      20508  1990    10.0  1.080307"
      ]
     },
     "execution_count": 14,
     "metadata": {},
     "output_type": "execute_result"
    }
   ],
   "source": [
    "baby_names.head(10)"
   ]
  },
  {
   "cell_type": "code",
   "execution_count": 15,
   "id": "95748e32",
   "metadata": {},
   "outputs": [],
   "source": [
    "dff = baby_names[baby_names.gender == 'F'] #divide data into male and female\n",
    "dfm = baby_names[baby_names.gender == 'M']"
   ]
  },
  {
   "cell_type": "code",
   "execution_count": 16,
   "id": "0566f44f",
   "metadata": {},
   "outputs": [],
   "source": [
    "# get the top names in both male and female\n",
    "rank1m = dfm[dfm.ranked == 1]\n",
    "rank1f = dff[dff.ranked == 1]"
   ]
  },
  {
   "cell_type": "code",
   "execution_count": 17,
   "id": "83c30d76",
   "metadata": {},
   "outputs": [
    {
     "name": "stderr",
     "output_type": "stream",
     "text": [
      "/var/folders/ns/h76j0lmj3f36gyjjdrtlhg1r0000gn/T/ipykernel_33714/3939879099.py:5: DeprecationWarning: scipy.arange is deprecated and will be removed in SciPy 2.0.0, use numpy.arange instead\n",
      "  plt.xticks(scipy.arange(1990,2021,2), rotation=70)\n"
     ]
    },
    {
     "data": {
      "image/png": "[encoded data removed]",
      "text/plain": [
       "<Figure size 432x288 with 1 Axes>"
      ]
     },
     "metadata": {
      "needs_background": "light"
     },
     "output_type": "display_data"
    }
   ],
   "source": [
    "plt.plot(rank1m.year, rank1m.pct, color=\"red\", linewidth = 2, label = 'Men')\n",
    "plt.fill_between(rank1m.year, rank1m.pct, color=\"red\", alpha = 0.2, interpolate=True)\n",
    "plt.xlim(1990,2021)\n",
    "plt.ylim(0,4)\n",
    "plt.xticks(scipy.arange(1990,2021,2), rotation=70)\n",
    "plt.title(\"Popularity of top mens' name by year\", size=18, color=\"red\")\n",
    "plt.xlabel('Year', size=15)\n",
    "plt.ylabel('% of male births', size=15)\n",
    "plt.show()\n",
    "plt.close()"
   ]
  },
  {
   "cell_type": "code",
   "execution_count": 18,
   "id": "a26489c3",
   "metadata": {},
   "outputs": [
    {
     "name": "stderr",
     "output_type": "stream",
     "text": [
      "/var/folders/ns/h76j0lmj3f36gyjjdrtlhg1r0000gn/T/ipykernel_33714/3483182847.py:5: DeprecationWarning: scipy.arange is deprecated and will be removed in SciPy 2.0.0, use numpy.arange instead\n",
      "  plt.xticks(scipy.arange(1990,2021,2), rotation=70)\n"
     ]
    },
    {
     "data": {
      "image/png": "[encoded data removed]",
      "text/plain": [
       "<Figure size 432x288 with 1 Axes>"
      ]
     },
     "metadata": {
      "needs_background": "light"
     },
     "output_type": "display_data"
    }
   ],
   "source": [
    "plt.plot(rank1f.year, rank1f.pct, color=\"blue\", linewidth = 2, label = 'Women')\n",
    "plt.fill_between(rank1f.year, rank1f.pct, color=\"blue\", alpha = 0.1, interpolate=True)\n",
    "plt.xlim(1990,2021)\n",
    "plt.ylim(0,3)\n",
    "plt.xticks(scipy.arange(1990,2021,2), rotation=70)\n",
    "plt.title(\"Popularity of top female' name by year\", size=18, color=\"blue\")\n",
    "plt.xlabel('Year', size=15)\n",
    "plt.ylabel('% of female births', size=15)\n",
    "plt.show()\n",
    "plt.close()"
   ]
  },
  {
   "cell_type": "markdown",
   "id": "0afd65ea",
   "metadata": {},
   "source": [
    "# Why do the popularity of top male and female names descrease every year? "
   ]
  },
  {
   "cell_type": "code",
   "execution_count": 20,
   "id": "2d3857b1",
   "metadata": {},
   "outputs": [
    {
     "data": {
      "text/html": [
       "<div>\n",
       "<style scoped>\n",
       "    .dataframe tbody tr th:only-of-type {\n",
       "        vertical-align: middle;\n",
       "    }\n",
       "\n",
       "    .dataframe tbody tr th {\n",
       "        vertical-align: top;\n",
       "    }\n",
       "\n",
       "    .dataframe thead th {\n",
       "        text-align: right;\n",
       "    }\n",
       "</style>\n",
       "<table border=\"1\" class=\"dataframe\">\n",
       "  <thead>\n",
       "    <tr style=\"text-align: right;\">\n",
       "      <th></th>\n",
       "      <th>year</th>\n",
       "      <th>gender</th>\n",
       "      <th>name_count</th>\n",
       "    </tr>\n",
       "  </thead>\n",
       "  <tbody>\n",
       "    <tr>\n",
       "      <th>0</th>\n",
       "      <td>1990</td>\n",
       "      <td>F</td>\n",
       "      <td>15232</td>\n",
       "    </tr>\n",
       "    <tr>\n",
       "      <th>1</th>\n",
       "      <td>1990</td>\n",
       "      <td>M</td>\n",
       "      <td>9485</td>\n",
       "    </tr>\n",
       "    <tr>\n",
       "      <th>2</th>\n",
       "      <td>1991</td>\n",
       "      <td>F</td>\n",
       "      <td>15467</td>\n",
       "    </tr>\n",
       "    <tr>\n",
       "      <th>3</th>\n",
       "      <td>1991</td>\n",
       "      <td>M</td>\n",
       "      <td>9648</td>\n",
       "    </tr>\n",
       "    <tr>\n",
       "      <th>4</th>\n",
       "      <td>1992</td>\n",
       "      <td>F</td>\n",
       "      <td>15611</td>\n",
       "    </tr>\n",
       "  </tbody>\n",
       "</table>\n",
       "</div>"
      ],
      "text/plain": [
       "   year gender  name_count\n",
       "0  1990      F       15232\n",
       "1  1990      M        9485\n",
       "2  1991      F       15467\n",
       "3  1991      M        9648\n",
       "4  1992      F       15611"
      ]
     },
     "execution_count": 20,
     "metadata": {},
     "output_type": "execute_result"
    }
   ],
   "source": [
    "\n",
    "name_count = baby_names.groupby(['year', 'gender']).size() \n",
    "name_count = name_count.to_frame(name=\"name_count\").reset_index()\n",
    "name_count.head()"
   ]
  },
  {
   "cell_type": "code",
   "execution_count": 22,
   "id": "e889cdc2",
   "metadata": {},
   "outputs": [
    {
     "data": {
      "text/plain": [
       "Text(0, 0.5, 'Number of names')"
      ]
     },
     "execution_count": 22,
     "metadata": {},
     "output_type": "execute_result"
    },
    {
     "data": {
      "image/png": "[encoded data removed]",
      "text/plain": [
       "<Figure size 432x288 with 1 Axes>"
      ]
     },
     "metadata": {
      "needs_background": "light"
     },
     "output_type": "display_data"
    }
   ],
   "source": [
    "name_count_m = name_count[name_count.gender == \"M\"]\n",
    "\n",
    "plt.plot(name_count_m.year, name_count_m.name_count, color=\"blue\", linewidth = 2)\n",
    "\n",
    "plt.fill_between(name_count_m.year, name_count_m.name_count, color=\"blue\", alpha = 0.1)\n",
    "\n",
    "plt.xlim(1990,2021)\n",
    "plt.ylim(0,21000)\n",
    "\n",
    "plt.title(\"Number of boy's names by year\", size=18, color=\"blue\")\n",
    "plt.xlabel('Year', size=15)\n",
    "plt.ylabel('Number of names', size=15)"
   ]
  },
  {
   "cell_type": "code",
   "execution_count": 24,
   "id": "afca2dff",
   "metadata": {},
   "outputs": [
    {
     "data": {
      "text/plain": [
       "Text(0, 0.5, 'Number of names')"
      ]
     },
     "execution_count": 24,
     "metadata": {},
     "output_type": "execute_result"
    },
    {
     "data": {
      "image/png": "[encoded data removed]",
      "text/plain": [
       "<Figure size 432x288 with 1 Axes>"
      ]
     },
     "metadata": {
      "needs_background": "light"
     },
     "output_type": "display_data"
    }
   ],
   "source": [
    "name_count_f = name_count[name_count.gender == \"F\"]\n",
    "plt.plot(name_count_f.year, name_count_f.name_count, color=\"red\", linewidth = 2)\n",
    "plt.fill_between(name_count_f.year, name_count_f.name_count, color=\"red\", alpha = 0.1)\n",
    "plt.xlim(1990,2021)\n",
    "plt.ylim(0,21000)\n",
    "plt.title(\"Number of girl's names by year\", size=18, color=\"red\")\n",
    "plt.xlabel('Year', size=15)\n",
    "plt.ylabel('Number of names', size=15)"
   ]
  },
  {
   "cell_type": "markdown",
   "id": "240a9ce0",
   "metadata": {},
   "source": [
    "# Conslusion: the choice of male and female names are rising, thus causes the phenomenon. \n",
    "\n"
   ]
  },
  {
   "cell_type": "code",
   "execution_count": null,
   "id": "727629b9",
   "metadata": {},
   "outputs": [],
   "source": []
  },
  {
   "cell_type": "code",
   "execution_count": null,
   "id": "d32b8f96",
   "metadata": {},
   "outputs": [],
   "source": []
  }
 ],
 "metadata": {
  "kernelspec": {
   "display_name": "Python 3 (ipykernel)",
   "language": "python",
   "name": "python3"
  },
  "language_info": {
   "codemirror_mode": {
    "name": "ipython",
    "version": 3
   },
   "file_extension": ".py",
   "mimetype": "text/x-python",
   "name": "python",
   "nbconvert_exporter": "python",
   "pygments_lexer": "ipython3",
   "version": "3.9.7"
  }
 },
 "nbformat": 4,
 "nbformat_minor": 5
}
